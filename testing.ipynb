{
 "cells": [
  {
   "cell_type": "code",
   "execution_count": 2,
   "metadata": {},
   "outputs": [],
   "source": [
    "import json\n",
    "import networkx as nx\n",
    "import pandas as pd\n",
    "import matplotlib.pyplot as plt"
   ]
  },
  {
   "cell_type": "code",
   "execution_count": 3,
   "metadata": {},
   "outputs": [],
   "source": [
    "with open('testSlice.json') as json_file:\n",
    "    slices = json.load(json_file)\n",
    "\n",
    "with open('testPattern.json') as json_file:\n",
    "    pattern = json.load(json_file)"
   ]
  },
  {
   "cell_type": "code",
   "execution_count": 40,
   "metadata": {},
   "outputs": [],
   "source": [
    "class Stmt_Expression():\n",
    "    def __init__(self, expr):\n",
    "        self.expr = expr\n",
    "    \n",
    "    def __repr__(self):\n",
    "        return f\"Stmt_Expression({self.expr})\"\n",
    "\n",
    "class Expr_Assign():\n",
    "    def __init__(self, var, expr):\n",
    "        self.var = var\n",
    "        self.expr = expr\n",
    "    def __repr__(self):\n",
    "        return f\"{self.var} = {self.expr}\"\n",
    "        #return f\"Assignment({self.var}={self.expr})\"\n",
    "\n",
    "class Expr_FuncCall():\n",
    "    def __init__(self, name, args=[]):\n",
    "        self.name = name\n",
    "        self.args = args\n",
    "    def __str__(self):\n",
    "        str_args = \", \".join(str(arg) for arg in self.args)\n",
    "        return f\"{self.name}({str_args})\"\n",
    "    def __repr__(self):\n",
    "        return f\"{self.name}()\"\n",
    "        #return f\"FuncCall(name={self.name},args={self.args})\"\n",
    "\n",
    "class Expr_Variable():\n",
    "    def __init__(self, name):\n",
    "        self.name = name\n",
    "    def __repr__(self):\n",
    "        return f\"${self.name}\"\n",
    "        #return f\"Variable({self.name})\"\n",
    "    #def __eq__(self, other):\n",
    "        # Check if the other object is an Assignment and has the same left and right values\n",
    "    #    if isinstance(other, Expr_Variable) and self.name == other.name:\n",
    "    #        return True\n",
    "    #    return False\n",
    "    #def __hash__(self):\n",
    "        # Return a unique and immutable value based on the left and right values\n",
    "    #    return hash(self.name)\n",
    "\n",
    "class Constant():\n",
    "    def __init__(self, value):\n",
    "        self.value = value\n",
    "    def __repr__(self):\n",
    "        return f\"Constant(value={self.value})\"\n",
    "\n",
    "class Program():\n",
    "    def __init__(self, steps):\n",
    "        self.steps = steps\n",
    "\n",
    "    def __repr__(self):\n",
    "        steps_str = '\\n'.join(f'\\t{idx}. {step}' for idx, step in enumerate(self.steps))\n",
    "        return f'Program(\\n{steps_str}\\n)'"
   ]
  },
  {
   "cell_type": "code",
   "execution_count": 41,
   "metadata": {},
   "outputs": [],
   "source": [
    "def process_json(obj):\n",
    "    if isinstance(obj, dict):\n",
    "        if obj[\"nodeType\"] == 'Stmt_Expression':\n",
    "            #expr = process_json(obj[\"expr\"])\n",
    "            #return Stmt_Expression(expr)\n",
    "            return process_json(obj[\"expr\"])\n",
    "        if obj[\"nodeType\"] == \"Expr_Assign\":\n",
    "            var = process_json(obj[\"var\"])\n",
    "            expr = process_json(obj[\"expr\"])\n",
    "            return Expr_Assign(var, expr)\n",
    "        if obj[\"nodeType\"] == \"Expr_FuncCall\":\n",
    "            name = obj[\"name\"][\"parts\"][0]\n",
    "            args = [process_json(arg) for arg in obj[\"args\"]]\n",
    "            return Expr_FuncCall(name, args)\n",
    "        if obj[\"nodeType\"] == \"Arg\":\n",
    "            return process_json(obj[\"value\"])\n",
    "        if obj[\"nodeType\"] == \"Expr_Variable\":\n",
    "            return Expr_Variable(obj[\"name\"])\n",
    "        if obj[\"nodeType\"] == \"Scalar_String\":\n",
    "            return Constant(obj[\"value\"])\n",
    "    elif isinstance(obj, list):\n",
    "        #for item in obj:\n",
    "        steps = [process_json(step) for step in obj][:-1]\n",
    "        return Program(steps)\n",
    "    else:\n",
    "        # obj is a scalar value (int, float, string, etc.)\n",
    "        print(obj)\n",
    "\n",
    "# Process the JSON object\n",
    "parsed_ast = process_json(slices)"
   ]
  },
  {
   "cell_type": "code",
   "execution_count": 42,
   "metadata": {},
   "outputs": [
    {
     "name": "stdout",
     "output_type": "stream",
     "text": [
      "Program(\n",
      "\t0. $a = Constant(value=)\n",
      "\t1. $a = b()\n",
      "\t2. $c = $a\n",
      "\t3. $d = $c\n",
      "\t4. e($d)\n",
      "\t5. $c = Constant(value=)\n",
      ")\n"
     ]
    }
   ],
   "source": [
    "print(parsed_ast)"
   ]
  },
  {
   "cell_type": "code",
   "execution_count": 43,
   "metadata": {},
   "outputs": [],
   "source": [
    "# Function to recursively find all assignments in the AST\n",
    "def find_assignments(node, graph):\n",
    "    if isinstance(node, Expr_Assign):\n",
    "        if graph.has_node(str(node.var)):\n",
    "            # If the value of a varaible is overwritten before it is referenced anywhere\n",
    "            if len(list(graph.successors(str(node.var)))) == 0:\n",
    "                for u, v in list(graph.in_edges(str(node.var))):\n",
    "                    graph.remove_edge(u, v)\n",
    "                    graph.remove_node(u)\n",
    "\n",
    "        # Add an edge to the graph for the assignment\n",
    "        graph.add_edge(str(node.expr), str(node.var))\n",
    "    if isinstance(node, Expr_FuncCall):\n",
    "        # Add an edge to the graph for the assignment\n",
    "        #print(node.expr)\n",
    "        for arg in node.args:\n",
    "            graph.add_edge(str(arg), repr(node))\n",
    "    # Recurse on children\n",
    "    if hasattr(node, 'steps'):\n",
    "        for step in node.steps:\n",
    "            find_assignments(step, graph)\n",
    "\n",
    "# Create an empty graph\n",
    "graph = nx.DiGraph()\n",
    "\n",
    "# Find all assignments in the AST and add them to the graph\n",
    "find_assignments(parsed_ast, graph)"
   ]
  },
  {
   "cell_type": "code",
   "execution_count": 49,
   "metadata": {},
   "outputs": [
    {
     "data": {
      "image/png": "[encoded data removed]",
      "text/plain": [
       "<Figure size 432x288 with 1 Axes>"
      ]
     },
     "metadata": {},
     "output_type": "display_data"
    }
   ],
   "source": [
    "# Use NetworkX's draw() function to draw the graph\n",
    "nx.draw(graph, with_labels=True)\n",
    "\n",
    "# Display the graph\n",
    "plt.show()"
   ]
  },
  {
   "cell_type": "code",
   "execution_count": 66,
   "metadata": {},
   "outputs": [
    {
     "data": {
      "text/plain": [
       "[{'vulnerability': 'A',\n",
       "  'sources': ['b', '$c'],\n",
       "  'sanitizers': [],\n",
       "  'sinks': ['$d', 'e'],\n",
       "  'implicit': 'yes'}]"
      ]
     },
     "execution_count": 66,
     "metadata": {},
     "output_type": "execute_result"
    }
   ],
   "source": [
    "pattern"
   ]
  },
  {
   "cell_type": "code",
   "execution_count": 72,
   "metadata": {},
   "outputs": [],
   "source": [
    "def get_following_nodsanitizerses(graph, node):\n",
    "    following_nodes = set()\n",
    "    for _, successors in nx.dfs_successors(graph, node).items():\n",
    "        following_nodes |= set(successors)\n",
    "    return following_nodes\n",
    "\n",
    "def get_following_nodes(graph, node):\n",
    "    following_nodes = []\n",
    "    stack = [node]\n",
    "    visited = set()\n",
    "    while stack:\n",
    "        current_node = stack.pop()\n",
    "        if current_node not in visited:\n",
    "            visited.add(current_node)\n",
    "            if current_node != node:\n",
    "                following_nodes.append(current_node)\n",
    "            stack.extend(graph.successors(current_node))\n",
    "    return following_nodes\n",
    "\n",
    "def analyze_patterns(pattern: dict, graph: nx.DiGraph) -> dict:\n",
    "    output = []\n",
    "    for source in pattern[\"sources\"]:\n",
    "        if \"$\" not in source:\n",
    "            source += \"()\"\n",
    "        following_nodes= get_following_nodes(graph, source)\n",
    "        for sink in pattern[\"sinks\"]:\n",
    "            if \"$\" not in sink:\n",
    "                sink += \"()\"\n",
    "            if sink in following_nodes:\n",
    "                sanitizers = []\n",
    "                for sanitize_func in pattern[\"sanitizers\"]:\n",
    "                    if sanitize_func + \"()\" in following_nodes:\n",
    "                        if following_nodes.index(sanitize_func + \"()\") < following_nodes.index(sink):      \n",
    "                            sanitizers.append[sanitize_func + \"()\"]   \n",
    "                output.append(\n",
    "                    {\n",
    "                        \"vulnerability\": pattern[\"vulnerability\"],\n",
    "                        \"source\": source,\n",
    "                        \"sink\": sink,\n",
    "                        \"unsanitized flows\": \"yes\" if len(sanitizers) == 0 else \"no\",\n",
    "                        \"sanitized flows\": sanitizers\n",
    "                    }   \n",
    "                )      \n",
    "\n",
    "    return output      \n"
   ]
  },
  {
   "cell_type": "code",
   "execution_count": 73,
   "metadata": {},
   "outputs": [
    {
     "data": {
      "text/plain": [
       "[{'vulnerability': 'A',\n",
       "  'source': 'b()',\n",
       "  'sink': '$d',\n",
       "  'unsanitized flows': 'yes',\n",
       "  'sanitized flows': []},\n",
       " {'vulnerability': 'A',\n",
       "  'source': 'b()',\n",
       "  'sink': 'e()',\n",
       "  'unsanitized flows': 'yes',\n",
       "  'sanitized flows': []},\n",
       " {'vulnerability': 'A',\n",
       "  'source': '$c',\n",
       "  'sink': '$d',\n",
       "  'unsanitized flows': 'yes',\n",
       "  'sanitized flows': []},\n",
       " {'vulnerability': 'A',\n",
       "  'source': '$c',\n",
       "  'sink': 'e()',\n",
       "  'unsanitized flows': 'yes',\n",
       "  'sanitized flows': []}]"
      ]
     },
     "execution_count": 73,
     "metadata": {},
     "output_type": "execute_result"
    }
   ],
   "source": [
    "analyze_patterns(pattern[0], graph)"
   ]
  },
  {
   "cell_type": "code",
   "execution_count": null,
   "metadata": {},
   "outputs": [],
   "source": []
  }
 ],
 "metadata": {
  "kernelspec": {
   "display_name": "assignments",
   "language": "python",
   "name": "python3"
  },
  "language_info": {
   "codemirror_mode": {
    "name": "ipython",
    "version": 3
   },
   "file_extension": ".py",
   "mimetype": "text/x-python",
   "name": "python",
   "nbconvert_exporter": "python",
   "pygments_lexer": "ipython3",
   "version": "3.10.4"
  },
  "orig_nbformat": 4,
  "vscode": {
   "interpreter": {
    "hash": "a21fa5c6778964b8c455e08b07d8119ce3d7b5a09f1f59bdb05e37c6649146e2"
   }
  }
 },
 "nbformat": 4,
 "nbformat_minor": 2
}
