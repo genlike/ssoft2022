{
 "cells": [
  {
   "cell_type": "code",
   "execution_count": 79,
   "metadata": {},
   "outputs": [],
   "source": [
    "import json, os\n",
    "import networkx as nx\n",
    "import pandas as pd\n",
    "import matplotlib.pyplot as plt\n",
    "import itertools\n"
   ]
  },
  {
   "cell_type": "code",
   "execution_count": 80,
   "metadata": {},
   "outputs": [],
   "source": [
    "# '1a-basic-flow'\n",
    "# '1b-basic-flow'\n",
    "# '2-expr-binary-ops'\n",
    "# '3a-expr-func-calls'\n",
    "\n",
    "TEST_SlICE = '1a-basic-flow'"
   ]
  },
  {
   "cell_type": "code",
   "execution_count": 81,
   "metadata": {},
   "outputs": [],
   "source": [
    "with open(os.path.join('testSlices', TEST_SlICE + '.json')) as json_file:\n",
    "    slices = json.load(json_file)\n",
    "\n",
    "with open(os.path.join('testPatterns', TEST_SlICE + '.patterns.json')) as json_file:\n",
    "    patterns = json.load(json_file)"
   ]
  },
  {
   "cell_type": "markdown",
   "metadata": {},
   "source": [
    "Initialize Classes"
   ]
  },
  {
   "cell_type": "code",
   "execution_count": 82,
   "metadata": {},
   "outputs": [],
   "source": [
    "class Stmt_Expression():\n",
    "    def __init__(self, expr):\n",
    "        self.expr = expr\n",
    "    \n",
    "    def __repr__(self):\n",
    "        return f\"Stmt_Expression({self.expr})\"\n",
    "\n",
    "class Expr_Assign():\n",
    "    def __init__(self, var, list_expr):\n",
    "        self.var = var\n",
    "        self.list_expr = list_expr\n",
    "    def __repr__(self):\n",
    "        str_list_expr = \", \".join(str(expr) for expr in self.list_expr)\n",
    "        return f\"{self.var} = {str_list_expr}\"\n",
    "\n",
    "class Expr_FuncCall():\n",
    "    def __init__(self, name, args=[]):\n",
    "        self.name = name\n",
    "        self.args = args\n",
    "    def __str__(self):\n",
    "        str_args = \", \".join(str(arg) for arg in self.args)\n",
    "        return f\"{self.name}({str_args})\"\n",
    "    def __repr__(self):\n",
    "        return f\"{self.name}()\"\n",
    "\n",
    "class Stmt_If():\n",
    "    def __init__(self, condition,codeBlock, elseIfs, elseBlock):\n",
    "        self.condition = condition # Do we even need the condition?\n",
    "        self.codeBlock = codeBlock\n",
    "        self.elseIfs = elseIfs\n",
    "        self.elseBlock = elseBlock\n",
    "    def __str__(self):\n",
    "        printString = f\"if({self.condition})[\\n{self.codeBlock}]\"\n",
    "        if not self.elseIfs.steps == []:\n",
    "            printString += f\"elseIf[\\n{str(self.elseIfs)}]\"\n",
    "        if not self.elseBlock is None:\n",
    "            printString += f\"else[\\n{str(self.elseBlock)}]\"\n",
    "        return printString\n",
    "    def __repr__(self):\n",
    "        return str(self)\n",
    "\n",
    "class Stmt_Else():\n",
    "    def __init__(self,block):\n",
    "        self.block = block\n",
    "    def __str__(self):\n",
    "        return str(self.block)\n",
    "    def __repr__(self):\n",
    "        return str(self)\n",
    "\n",
    "\n",
    "class Expr_Variable():\n",
    "    def __init__(self, name):\n",
    "        self.name = name\n",
    "    def __repr__(self):\n",
    "        return f\"${self.name}\"\n",
    "    #def __eq__(self, other):\n",
    "        # Check if the other object is an Assignment and has the same left and right values\n",
    "    #    if isinstance(other, Expr_Variable) and self.name == other.name:\n",
    "    #        return True\n",
    "    #    return False\n",
    "    #def __hash__(self):\n",
    "        # Return a unique and immutable value based on the left and right values\n",
    "    #    return hash(self.name)\n",
    "\n",
    "class Constant():\n",
    "    def __init__(self, value):\n",
    "        self.value = value\n",
    "    def __repr__(self):\n",
    "        return f\"Constant(value={self.value})\"\n",
    "\n",
    "class Stmt_Nop():\n",
    "    def __init__(self, value):\n",
    "        self.value = value\n",
    "    def __repr__(self):\n",
    "        return f\"Nop(value={self.value})\"\n",
    "        \n",
    "\n",
    "class Expr_BinaryOp_Concat():\n",
    "    def __init__(self, left, right):\n",
    "        self.left = left\n",
    "        self.right = right\n",
    "    def __repr__(self):\n",
    "        return f\"{self.left}, {self.right}\"\n",
    "\n",
    "class Expr_BinaryOp_Greater():\n",
    "    def __init__(self, left, right):\n",
    "        self.left = left\n",
    "        self.right = right\n",
    "    def __repr__(self):\n",
    "        return f\"{self.left}>{self.right}\"\n",
    "\n",
    "class Expr_BinaryOp_Smaller():\n",
    "    def __init__(self, left, right):\n",
    "        self.left = left\n",
    "        self.right = right\n",
    "    def __repr__(self):\n",
    "        return f\"{self.left}<{self.right}\"\n",
    "\n",
    "\n",
    "class Program():\n",
    "    def __init__(self, steps):\n",
    "        self.steps = steps\n",
    "    def __repr__(self):\n",
    "        str_steps = '\\n'.join(f'\\t{idx}. {step}' for idx, step in enumerate(self.steps))\n",
    "        return f'\\n{str_steps}\\n'"
   ]
  },
  {
   "cell_type": "markdown",
   "metadata": {},
   "source": [
    "Recusive Function to convert the input slices into class objects"
   ]
  },
  {
   "cell_type": "code",
   "execution_count": 83,
   "metadata": {},
   "outputs": [],
   "source": [
    "def flatten(lst):\n",
    "    flat_list = []\n",
    "    for item in lst:\n",
    "        if isinstance(item, list):\n",
    "            flat_list.extend(flatten(item))\n",
    "        else:\n",
    "            flat_list.append(item)\n",
    "    return flat_list\n",
    "    \n",
    "def process_json(obj):\n",
    "    if isinstance(obj, dict):\n",
    "        if obj[\"nodeType\"] == 'Stmt_Else':\n",
    "            block = process_json(obj[\"stmts\"])\n",
    "            return Stmt_Else(block)\n",
    "        if obj[\"nodeType\"] == 'Stmt_If':\n",
    "            condition = process_json(obj[\"cond\"])\n",
    "            codeBlock = process_json(obj[\"stmts\"])\n",
    "            elseIfs = process_json(obj[\"elseifs\"])\n",
    "            elseBlock = process_json(obj[\"else\"])\n",
    "            return Stmt_If(condition, codeBlock, elseIfs, elseBlock)\n",
    "        if obj[\"nodeType\"] == 'Stmt_Expression':\n",
    "            #expr = process_json(obj[\"expr\"])\n",
    "            #return Stmt_Expression(expr)\n",
    "            return process_json(obj[\"expr\"])\n",
    "        if obj[\"nodeType\"] == \"Expr_Assign\":\n",
    "            var = process_json(obj[\"var\"])\n",
    "            list_expr = [process_json(obj[\"expr\"])]\n",
    "            return Expr_Assign(var, list_expr)\n",
    "        if obj[\"nodeType\"] == \"Expr_FuncCall\":\n",
    "            name = obj[\"name\"][\"parts\"][0]\n",
    "            args = flatten([process_json(arg) for arg in obj[\"args\"]])\n",
    "            return Expr_FuncCall(name, args)\n",
    "        if obj[\"nodeType\"] == \"Expr_BinaryOp_Concat\":\n",
    "            left = process_json(obj[\"left\"])\n",
    "            right = process_json(obj[\"right\"])\n",
    "            return flatten([left, right])\n",
    "        if obj[\"nodeType\"] == \"Expr_BinaryOp_Greater\":\n",
    "            left = process_json(obj[\"left\"])\n",
    "            right = process_json(obj[\"right\"])\n",
    "            return Expr_BinaryOp_Greater(left, right)\n",
    "        if obj[\"nodeType\"] == \"Expr_BinaryOp_Smaller\":\n",
    "            left = process_json(obj[\"left\"])\n",
    "            right = process_json(obj[\"right\"])\n",
    "            return Expr_BinaryOp_Smaller(left, right)\n",
    "        if obj[\"nodeType\"] == \"Arg\":\n",
    "            return process_json(obj[\"value\"])\n",
    "        if obj[\"nodeType\"] == \"Expr_Variable\":\n",
    "            return Expr_Variable(obj[\"name\"])\n",
    "        if obj[\"nodeType\"] == \"Scalar_String\":\n",
    "            return Constant(obj[\"value\"])\n",
    "        if obj[\"nodeType\"] == \"Scalar_LNumber\":\n",
    "            return Constant(obj[\"value\"])\n",
    "        if obj[\"nodeType\"] == \"Stmt_Nop\":\n",
    "            return Stmt_Nop(\"Nop\")\n",
    "    elif isinstance(obj, list):\n",
    "        #for item in obj:\n",
    "        steps = [process_json(step) for step in obj]\n",
    "        return Program(steps)\n",
    "    else:\n",
    "        # this is for error catching :)\n",
    "        print(obj)\n",
    "\n",
    "# Process the JSON object\n",
    "parsed_ast = process_json(slices)"
   ]
  },
  {
   "cell_type": "markdown",
   "metadata": {},
   "source": [
    "Print the program in a readable format"
   ]
  },
  {
   "cell_type": "code",
   "execution_count": 84,
   "metadata": {},
   "outputs": [
    {
     "name": "stdout",
     "output_type": "stream",
     "text": [
      "\n",
      "\t0. $a = Constant(value=)\n",
      "\t1. $b = c()\n",
      "\t2. d($a)\n",
      "\t3. e($b)\n",
      "\t4. Nop(value=Nop)\n",
      "\n"
     ]
    }
   ],
   "source": [
    "print(parsed_ast)"
   ]
  },
  {
   "cell_type": "code",
   "execution_count": 85,
   "metadata": {},
   "outputs": [],
   "source": [
    "class CustomGraph:\n",
    "    def __init__(self, name):\n",
    "        self.nodes = []\n",
    "        self.edges = []\n",
    "        self.name = name\n",
    "\n",
    "    def add_node(self,node):\n",
    "        self.nodes.append(node)\n",
    "        \n",
    "    def remove_node(self,node):\n",
    "        self.nodes.remove(node)\n",
    "\n",
    "    def add_edge(self,firstNode, secondNode):\n",
    "        if firstNode not in self.nodes:\n",
    "            self.nodes.append(firstNode)\n",
    "        if secondNode not in self.nodes:\n",
    "            self.nodes.append(secondNode)\n",
    "        self.edges.append((firstNode,secondNode))\n",
    "\n",
    "    def remove_edge(self, firstNode, secondNode):\n",
    "        self.edges.remove((firstNode, secondNode))\n",
    "\n",
    "    def has_node(self, node, evalMode=False):\n",
    "        if evalMode:\n",
    "            return str(node) in [repr(n) for n in self.nodes]\n",
    "        else:\n",
    "            return node in self.nodes\n",
    "\n",
    "    def in_edges(self, node):\n",
    "        edgesFound = []\n",
    "        for edge in self.edges:\n",
    "            if node in edge:\n",
    "                edgesFound.append(edge)\n",
    "        return edgesFound\n",
    "\n",
    "    def successors(self,node):\n",
    "        successors = []\n",
    "        for pair in self.edges:\n",
    "            if pair[0] == node:\n",
    "                successors.append(pair[1])\n",
    "        return successors\n",
    "    \n",
    "    def add_edges_from(self, edges):\n",
    "        for edge in edges:\n",
    "            if edge not in self.edges:\n",
    "                self.edges.append(edge)\n",
    "    \n",
    "    def __repr__(self):\n",
    "        return f\"{self.name}\""
   ]
  },
  {
   "cell_type": "markdown",
   "metadata": {},
   "source": [
    "Recusively create a graph based on the program"
   ]
  },
  {
   "cell_type": "code",
   "execution_count": 86,
   "metadata": {},
   "outputs": [],
   "source": [
    "codeBlockCounter = 1\n",
    "\n",
    "# Function to recursively find all assignments in the AST\n",
    "def create_graph(node, programGraph, graph):\n",
    "    global codeBlockCounter\n",
    "\n",
    "    if isinstance(node, Expr_Assign):\n",
    "\n",
    "        if graph.has_node(str(node.var)):\n",
    "            # If the variable isn't referenced anywhere, it is overwritten\n",
    "            if len(list(graph.successors(str(node.var)))) == 0:\n",
    "                for u, v in list(graph.in_edges(str(node.var))):\n",
    "                    graph.remove_edge(u, v)\n",
    "                    graph.remove_node(u)\n",
    "\n",
    "        for expr in node.list_expr:\n",
    "            if isinstance(expr, Expr_FuncCall):\n",
    "                graph.add_edge(repr(expr), str(node.var))\n",
    "                create_graph(expr, programGraph, graph)\n",
    "            if isinstance(expr, Expr_Variable):\n",
    "                graph.add_edge(str(expr), str(node.var))\n",
    "\n",
    "    if isinstance(node, Expr_FuncCall):\n",
    "        for arg in node.args:\n",
    "            graph.add_edge(str(arg), repr(node))\n",
    "\n",
    "    if isinstance(node, Stmt_Else):\n",
    "        create_graph(node.block, programGraph,graph)  \n",
    "\n",
    "    if isinstance(node, Stmt_If):\n",
    "        #validate if there is assignment in the if condiction (it is possible!) # @Arne: ????\n",
    "        create_graph(node.condition, programGraph, graph)\n",
    "        \n",
    "        #we generate a code block for if the statement is true\n",
    "        codeBlockCounter += 1\n",
    "        new_ifGraph = CustomGraph(f\"ifcodeBlock#{codeBlockCounter}\")\n",
    "        programGraph.add_edge(graph, new_ifGraph)\n",
    "        connectifGraph = create_graph(node.codeBlock, programGraph, new_ifGraph)\n",
    "        \n",
    "        \n",
    "        #FIXME This may need to change, need to test with else ifs\n",
    "        if node.elseIfs.steps != []:\n",
    "            codeBlockCounter += 1\n",
    "            new_ifGraph2 = CustomGraph(f\"elifscodeBlock#{codeBlockCounter}\")\n",
    "            create_graph(node.elseIfs, programGraph, new_ifGraph2)\n",
    "            programGraph.add_edge(graph, new_ifGraph2)\n",
    "        \n",
    "        #This is the else codeblock\n",
    "        codeBlockCounter += 1\n",
    "        new_elseGraph = CustomGraph(f\"elsecodeBlock#{codeBlockCounter}\")\n",
    "        connectelseGraph =create_graph(node.elseBlock, programGraph,new_elseGraph)\n",
    "        programGraph.add_edge(graph, new_elseGraph)\n",
    "        \n",
    "\n",
    "        #This is a new codeblock after the if and else statement\n",
    "        #where I connect the if and else block to this new block\n",
    "        #With the 4a example its the 5 and 7 blocks\n",
    "        codeBlockCounter += 1\n",
    "        new_endifGraph = CustomGraph(f\"codeBlock#{codeBlockCounter}\")\n",
    "        programGraph.add_edge(connectelseGraph, new_endifGraph)\n",
    "        programGraph.add_edge(connectifGraph, new_endifGraph)\n",
    "        graph = new_endifGraph\n",
    "\n",
    "    if hasattr(node, 'steps'):\n",
    "        for step in node.steps:\n",
    "            create_graph(step, programGraph, graph)\n",
    "\n",
    "\n",
    "# Create a graph for the code blocks\n",
    "graph = CustomGraph(f\"codeBlock#{codeBlockCounter}\")\n",
    "\n",
    "# Create a graph for the whole program\n",
    "programGraph = CustomGraph(\"ProgramGraph\")\n",
    "programGraph.add_node(graph)\n",
    "\n",
    "# Recusrively create the Program Graph consisting of graphs\n",
    "create_graph(parsed_ast, programGraph, graph)"
   ]
  },
  {
   "attachments": {},
   "cell_type": "markdown",
   "metadata": {},
   "source": [
    "Print the  program graph  and each single blocks graph"
   ]
  },
  {
   "cell_type": "code",
   "execution_count": 87,
   "metadata": {},
   "outputs": [
    {
     "data": {
      "image/png": "[encoded data removed]",
      "text/plain": [
       "<Figure size 432x288 with 1 Axes>"
      ]
     },
     "metadata": {},
     "output_type": "display_data"
    },
    {
     "name": "stdout",
     "output_type": "stream",
     "text": [
      "codeBlock#1\n"
     ]
    },
    {
     "data": {
      "image/png": "[encoded data removed]",
      "text/plain": [
       "<Figure size 432x288 with 1 Axes>"
      ]
     },
     "metadata": {},
     "output_type": "display_data"
    },
    {
     "name": "stdout",
     "output_type": "stream",
     "text": [
      "[codeBlock#1]\n"
     ]
    }
   ],
   "source": [
    "# Use NetworkX's draw() function to draw the graph\n",
    "debugGraph = nx.DiGraph()\n",
    "debugGraph.add_edges_from(programGraph.edges)\n",
    "nx.draw(debugGraph, with_labels=True)\n",
    "plt.show()\n",
    "\n",
    "# Loop through each codeBlocks graph and draw it\n",
    "for nodeGraph in programGraph.nodes:\n",
    "    print(nodeGraph)\n",
    "    debugGraph = nx.DiGraph()\n",
    "    debugGraph.add_edges_from(nodeGraph.edges)\n",
    "    nx.draw(debugGraph, with_labels=True)\n",
    "    plt.show()\n",
    "\n",
    "\n",
    "# Display the graph\n",
    "\n",
    "print(programGraph.nodes)\n"
   ]
  },
  {
   "attachments": {},
   "cell_type": "markdown",
   "metadata": {},
   "source": [
    "Function to generate all possible paths from the first node to the end node "
   ]
  },
  {
   "cell_type": "code",
   "execution_count": 88,
   "metadata": {},
   "outputs": [],
   "source": [
    "def getPossiblePaths(programGraph):\n",
    "    def fillneighbours(programGraph):\n",
    "        neighbours = {}\n",
    "        for edge in programGraph.edges:\n",
    "            if edge[0] not in neighbours.keys():\n",
    "                neighbours[edge[0]] = [edge[1]]\n",
    "            else:\n",
    "                neighbours[edge[0]].append(edge[1])\n",
    "        return neighbours\n",
    "    def getPaths(visited, neighbours, node, endNode):\n",
    "        if node == endNode:\n",
    "            paths.append(visited)\n",
    "        if node not in neighbours.keys():\n",
    "            return \n",
    "        for neighbour in neighbours[node]:\n",
    "            getPaths(visited + [neighbour,], neighbours, neighbour, endNode)\n",
    "\n",
    "    #Output struture\n",
    "    paths = []\n",
    "    #This is a support structure to make it easier to traverse each nodes neighbours\n",
    "    neighbours = fillneighbours(programGraph)\n",
    "    getPaths([programGraph.nodes[0]], \\\n",
    "            neighbours, programGraph.nodes[0],\\\n",
    "            programGraph.nodes[len(programGraph.nodes)-1])\n",
    "    return paths"
   ]
  },
  {
   "attachments": {},
   "cell_type": "markdown",
   "metadata": {},
   "source": [
    "Example on how to join each path into a single graph"
   ]
  },
  {
   "cell_type": "code",
   "execution_count": 90,
   "metadata": {},
   "outputs": [
    {
     "name": "stdout",
     "output_type": "stream",
     "text": [
      "[codeBlock#1]\n"
     ]
    },
    {
     "data": {
      "image/png": "[encoded data removed]",
      "text/plain": [
       "<Figure size 432x288 with 1 Axes>"
      ]
     },
     "metadata": {},
     "output_type": "display_data"
    }
   ],
   "source": [
    "listOfCombinations = getPossiblePaths(programGraph)\n",
    "\n",
    "for combination in listOfCombinations:\n",
    "    print(combination)\n",
    "    debugGraph = nx.DiGraph()\n",
    "    for graph in combination:\n",
    "        debugGraph.add_edges_from(graph.edges)\n",
    "    nx.draw(debugGraph, with_labels=True)\n",
    "    plt.show()\n",
    "\n",
    "    "
   ]
  },
  {
   "cell_type": "code",
   "execution_count": 100,
   "metadata": {},
   "outputs": [],
   "source": [
    "def get_paths(graph, start, path=[]):\n",
    "    path = path + [start]\n",
    "    if not graph.has_node(start, evalMode=True):\n",
    "        return []\n",
    "    paths = []\n",
    "    for node in graph.successors(start):\n",
    "        new_paths = get_paths(graph, node, path)\n",
    "        for new_path in new_paths:\n",
    "            paths.append(new_path)\n",
    "    if not paths:\n",
    "        paths.append(path)\n",
    "    return paths\n",
    "\n",
    "def create_output_list(list_output: list, new_vulnerability: json) -> list:\n",
    "    EXISTS = False\n",
    "    for idx, known_vulnerability in enumerate(list_output):\n",
    "        if all(known_vulnerability[key] == new_vulnerability[key] for key in [\"vulnerability\", \"source\", \"sink\"]):\n",
    "            EXISTS = True\n",
    "            if len(new_vulnerability[\"sanitized flows\"]) == 0:\n",
    "                list_output[idx][\"unsanitized flows\"] = \"yes\"\n",
    "            else:\n",
    "                list_output[idx][\"sanitized flows\"].append(new_vulnerability[\"sanitized flows\"])\n",
    "    if not EXISTS:\n",
    "        list_output.append(new_vulnerability)\n",
    "    return list_output\n",
    "    \n",
    "def analyze_patterns(pattern: dict, graph: CustomGraph) -> dict:\n",
    "    list_output = []\n",
    "    for source in pattern[\"sources\"]:\n",
    "        if \"$\" not in source: # FIXME: Maybe remove this from the graph \n",
    "            source += \"()\"\n",
    "        print(source)\n",
    "        possible_paths = get_paths(graph, source)\n",
    "        print(possible_paths)\n",
    "        for sink in pattern[\"sinks\"]:\n",
    "            if \"$\" not in sink:\n",
    "                sink += \"()\"\n",
    "            for path in possible_paths:\n",
    "                if sink in path:\n",
    "                    if pattern[\"implicit\"] == 'yes' or (pattern[\"implicit\"] == 'no' and path.index(sink) > 0):\n",
    "                        sanitizers = []\n",
    "                        for sanitize_func in pattern[\"sanitizers\"]:\n",
    "                            if sanitize_func + \"()\" in path:\n",
    "                                if path.index(sanitize_func + \"()\") < path.index(sink):\n",
    "                                    sanitizers.append(sanitize_func + \"()\")\n",
    "                        \n",
    "                        list_output = create_output_list(\n",
    "                            list_output = list_output, \n",
    "                            new_vulnerability = {\n",
    "                                \"vulnerability\": pattern[\"vulnerability\"],\n",
    "                                \"source\": source,\n",
    "                                \"sink\": sink,\n",
    "                                \"unsanitized flows\": \"yes\" if len(sanitizers) == 0 else \"no\",\n",
    "                                \"sanitized flows\": sanitizers\n",
    "                            }\n",
    "                        )\n",
    "                        \n",
    "\n",
    "    return list_output"
   ]
  },
  {
   "cell_type": "code",
   "execution_count": 101,
   "metadata": {},
   "outputs": [],
   "source": [
    "def getAllPossibleGraphs(lst:list) -> list:\n",
    "    if isinstance(lst[0], CustomGraph):\n",
    "        return_graph = CustomGraph(name=\"Final\")\n",
    "        for graph in lst:\n",
    "            return_graph.add_edges_from(graph.edges)\n",
    "        return return_graph\n",
    "    if isinstance(lst[0], list):\n",
    "        return [getAllPossibleGraphs(combination) for combination in lst] \n",
    "    \n",
    "listOfCombinations = getPossiblePaths(programGraph)\n",
    "listOfGraphs = getAllPossibleGraphs(listOfCombinations)"
   ]
  },
  {
   "cell_type": "code",
   "execution_count": 102,
   "metadata": {},
   "outputs": [
    {
     "name": "stdout",
     "output_type": "stream",
     "text": [
      "Final\n",
      "c()\n",
      "[]\n",
      "[]\n"
     ]
    }
   ],
   "source": [
    "output = []\n",
    "for graph in listOfGraphs:\n",
    "    print(graph)\n",
    "    for pattern in patterns:\n",
    "        output.extend(analyze_patterns(pattern, graph))\n",
    "print(output)"
   ]
  },
  {
   "cell_type": "code",
   "execution_count": null,
   "metadata": {},
   "outputs": [],
   "source": []
  }
 ],
 "metadata": {
  "kernelspec": {
   "display_name": "assignments",
   "language": "python",
   "name": "python3"
  },
  "language_info": {
   "codemirror_mode": {
    "name": "ipython",
    "version": 3
   },
   "file_extension": ".py",
   "mimetype": "text/x-python",
   "name": "python",
   "nbconvert_exporter": "python",
   "pygments_lexer": "ipython3",
   "version": "3.10.4"
  },
  "vscode": {
   "interpreter": {
    "hash": "a21fa5c6778964b8c455e08b07d8119ce3d7b5a09f1f59bdb05e37c6649146e2"
   }
  }
 },
 "nbformat": 4,
 "nbformat_minor": 4
}
