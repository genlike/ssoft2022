{
 "cells": [
  {
   "cell_type": "code",
   "execution_count": 62,
   "metadata": {},
   "outputs": [],
   "source": [
    "import json, os\n",
    "import networkx as nx\n",
    "import itertools"
   ]
  },
  {
   "cell_type": "code",
   "execution_count": 51,
   "metadata": {},
   "outputs": [],
   "source": [
    "# '1a-basic-flow'\n",
    "# '1b-basic-flow'\n",
    "# '2-expr-binary-ops'\n",
    "# '3a-expr-func-calls'\n",
    "\n",
    "TEST_SlICE = '2-expr-binary-ops'"
   ]
  },
  {
   "cell_type": "code",
   "execution_count": 52,
   "metadata": {},
   "outputs": [],
   "source": [
    "with open(os.path.join('testSlices', TEST_SlICE + '.json')) as json_file:\n",
    "    slices = json.load(json_file)\n",
    "\n",
    "with open(os.path.join('testPatterns', TEST_SlICE + '.patterns.json')) as json_file:\n",
    "    patterns = json.load(json_file)"
   ]
  },
  {
   "attachments": {},
   "cell_type": "markdown",
   "metadata": {},
   "source": [
    "Initialize Classes"
   ]
  },
  {
   "cell_type": "code",
   "execution_count": 54,
   "metadata": {},
   "outputs": [],
   "source": [
    "class Stmt_Expression():\n",
    "    def __init__(self, expr):\n",
    "        self.expr = expr\n",
    "    \n",
    "    def __repr__(self):\n",
    "        return f\"Stmt_Expression({self.expr})\"\n",
    "\n",
    "class Expr_Assign():\n",
    "    def __init__(self, var, list_expr):\n",
    "        self.var = var\n",
    "        self.list_expr = list_expr\n",
    "    def __repr__(self):\n",
    "        str_list_expr = \", \".join(str(expr) for expr in self.list_expr)\n",
    "        return f\"{self.var} = {str_list_expr}\"\n",
    "        #return f\"Assignment({self.var}={self.expr})\"\n",
    "\n",
    "class Expr_FuncCall():\n",
    "    def __init__(self, name, args=[]):\n",
    "        self.name = name\n",
    "        self.args = args\n",
    "    def __str__(self):\n",
    "        str_args = \", \".join(str(arg) for arg in self.args)\n",
    "        return f\"{self.name}({str_args})\"\n",
    "    def __repr__(self):\n",
    "        return f\"{self.name}()\"\n",
    "        #return f\"FuncCall(name={self.name},args={self.args})\"\n",
    "\n",
    "class Expr_Variable():\n",
    "    def __init__(self, name):\n",
    "        self.name = name\n",
    "    def __repr__(self):\n",
    "        return f\"${self.name}\"\n",
    "        #return f\"Variable({self.name})\"\n",
    "    #def __eq__(self, other):\n",
    "        # Check if the other object is an Assignment and has the same left and right values\n",
    "    #    if isinstance(other, Expr_Variable) and self.name == other.name:\n",
    "    #        return True\n",
    "    #    return False\n",
    "    #def __hash__(self):\n",
    "        # Return a unique and immutable value based on the left and right values\n",
    "    #    return hash(self.name)\n",
    "\n",
    "class Constant():\n",
    "    def __init__(self, value):\n",
    "        self.value = value\n",
    "    def __repr__(self):\n",
    "        return f\"Constant(value={self.value})\"\n",
    "\n",
    "class Expr_BinaryOp_Concat():\n",
    "    def __init__(self, left, right):\n",
    "        self.left = left\n",
    "        self.right = right\n",
    "    def __repr__(self):\n",
    "        return f\"{self.left}, {self.right}\"\n",
    "\n",
    "class Program():\n",
    "    def __init__(self, steps):\n",
    "        self.steps = steps\n",
    "    def __repr__(self):\n",
    "        str_steps = '\\n'.join(f'\\t{idx}. {step}' for idx, step in enumerate(self.steps))\n",
    "        return f'Program(\\n{str_steps}\\n)'"
   ]
  },
  {
   "attachments": {},
   "cell_type": "markdown",
   "metadata": {},
   "source": [
    "Recusive Function to convert the input slices into class objects"
   ]
  },
  {
   "cell_type": "code",
   "execution_count": 55,
   "metadata": {},
   "outputs": [],
   "source": [
    "def flatten(lst):\n",
    "    flat_list = []\n",
    "    for item in lst:\n",
    "        if isinstance(item, list):\n",
    "            flat_list.extend(flatten(item))\n",
    "        else:\n",
    "            flat_list.append(item)\n",
    "    return flat_list\n",
    "    \n",
    "def process_json(obj):\n",
    "    if isinstance(obj, dict):\n",
    "        if obj[\"nodeType\"] == 'Stmt_Expression':\n",
    "            #expr = process_json(obj[\"expr\"])\n",
    "            #return Stmt_Expression(expr)\n",
    "            return process_json(obj[\"expr\"])\n",
    "        if obj[\"nodeType\"] == \"Expr_Assign\":\n",
    "            var = process_json(obj[\"var\"])\n",
    "            list_expr = [process_json(obj[\"expr\"])]\n",
    "            return Expr_Assign(var, list_expr)\n",
    "        if obj[\"nodeType\"] == \"Expr_FuncCall\":\n",
    "            name = obj[\"name\"][\"parts\"][0]\n",
    "            args = flatten([process_json(arg) for arg in obj[\"args\"]])\n",
    "            return Expr_FuncCall(name, args)\n",
    "        if obj[\"nodeType\"] == \"Expr_BinaryOp_Concat\":\n",
    "            left = process_json(obj[\"left\"])\n",
    "            right = process_json(obj[\"right\"])\n",
    "            return flatten([left, right])\n",
    "        if obj[\"nodeType\"] == \"Arg\":\n",
    "            return process_json(obj[\"value\"])\n",
    "        if obj[\"nodeType\"] == \"Expr_Variable\":\n",
    "            return Expr_Variable(obj[\"name\"])\n",
    "        if obj[\"nodeType\"] == \"Scalar_String\":\n",
    "            return Constant(obj[\"value\"])\n",
    "    elif isinstance(obj, list):\n",
    "        #for item in obj:\n",
    "        steps = [process_json(step) for step in obj][:-1]\n",
    "        return Program(steps)\n",
    "    else:\n",
    "        # this is for error catching :)\n",
    "        print(obj)\n",
    "\n",
    "# Process the JSON object\n",
    "parsed_ast = process_json(slices)"
   ]
  },
  {
   "attachments": {},
   "cell_type": "markdown",
   "metadata": {},
   "source": [
    "Print the program in a readable format"
   ]
  },
  {
   "cell_type": "code",
   "execution_count": 56,
   "metadata": {},
   "outputs": [
    {
     "name": "stdout",
     "output_type": "stream",
     "text": [
      "Program(\n",
      "\t0. $a = b()\n",
      "\t1. $c = s(Constant(value=ola), $a)\n",
      "\t2. $f = e($c, Constant(value=oi), $d, Constant(value=hi), $a)\n",
      ")\n"
     ]
    }
   ],
   "source": [
    "print(parsed_ast)"
   ]
  },
  {
   "attachments": {},
   "cell_type": "markdown",
   "metadata": {},
   "source": [
    "Recusively create a graph based on the program"
   ]
  },
  {
   "cell_type": "code",
   "execution_count": 73,
   "metadata": {},
   "outputs": [],
   "source": [
    "class ASTgraph:\n",
    "    def __init__(self):\n",
    "        self.nodes = []\n",
    "        self.edges = []\n",
    "\n",
    "    def add_node(self,node):\n",
    "        self.nodes.append(node)\n",
    "        \n",
    "    def remove_node(self,node):\n",
    "        self.nodes.remove(node)\n",
    "\n",
    "    def add_edge(self,firstNode, secondNode):\n",
    "        if firstNode not in self.nodes:\n",
    "            self.nodes.append(firstNode)\n",
    "        if secondNode not in self.nodes:\n",
    "            self.nodes.append(secondNode)\n",
    "        self.edges.append((firstNode,secondNode))\n",
    "\n",
    "    def remove_edge(self, firstNode, secondNode):\n",
    "        self.edges.remove((firstNode, secondNode))\n",
    "\n",
    "    def has_node(self, node):\n",
    "        return node in self.nodes\n",
    "\n",
    "    def in_edges(self, node):\n",
    "        edgesFound = []\n",
    "        for edge in self.edges:\n",
    "            if node in edge:\n",
    "                edgesFound.append(edge)\n",
    "        return edgesFound\n",
    "\n",
    "    def successors(self,node):\n",
    "        successors = []\n",
    "        for pair in self.edges:\n",
    "            if pair[0] == node:\n",
    "                successors.append(pair[1])\n",
    "        return successors\n",
    "\n",
    "\n"
   ]
  },
  {
   "cell_type": "code",
   "execution_count": 74,
   "metadata": {},
   "outputs": [
    {
     "name": "stdout",
     "output_type": "stream",
     "text": [
      "[1, 2, 3, 4, 5]\n",
      "[(1, 2), (4, 5), (1, 5)]\n",
      "[2, 5]\n",
      "[(1, 2), (1, 5)]\n"
     ]
    }
   ],
   "source": [
    "##Test graph\n",
    "testGraph = ASTgraph()\n",
    "\n",
    "testGraph.add_edge(1,2)\n",
    "testGraph.add_edge(3,1)\n",
    "testGraph.add_edge(4,5)\n",
    "testGraph.add_edge(1,5)\n",
    "\n",
    "testGraph.remove_edge(3,1)\n",
    "\n",
    "\n",
    "\n",
    "print(testGraph.nodes)\n",
    "print(testGraph.edges)\n",
    "print(testGraph.successors(1))\n",
    "print(testGraph.in_edges(1))\n",
    "\n"
   ]
  },
  {
   "cell_type": "code",
   "execution_count": 79,
   "metadata": {},
   "outputs": [],
   "source": [
    "# Function to recursively find all assignments in the AST\n",
    "def create_graph(node, graph):\n",
    "    if isinstance(node, Expr_Assign):\n",
    "        if graph.has_node(str(node.var)):\n",
    "            # If the value of a varaible is overwritten before it is referenced anywhere\n",
    "            if len(list(graph.successors(str(node.var)))) == 0:\n",
    "                for u, v in list(graph.in_edges(str(node.var))):\n",
    "                    graph.remove_edge(u, v)\n",
    "                    graph.remove_node(u)\n",
    "        for expr in node.list_expr:\n",
    "            if isinstance(expr, Expr_FuncCall):\n",
    "                graph.add_edge(repr(expr), str(node.var))\n",
    "                create_graph(expr, graph)\n",
    "            if isinstance(expr, Expr_Variable):\n",
    "                graph.add_edge(str(expr), str(node.var))\n",
    "    if isinstance(node, Expr_FuncCall):\n",
    "        for arg in node.args:\n",
    "            graph.add_edge(str(arg), repr(node))\n",
    "    if hasattr(node, 'steps'):\n",
    "        for step in node.steps:\n",
    "            create_graph(step, graph)\n",
    "\n",
    "# Create an empty graph\n",
    "graph = nx.DiGraph()\n",
    "\n",
    "# Find all assignments in the AST and add them to the graph\n",
    "create_graph(parsed_ast, graph)"
   ]
  },
  {
   "attachments": {},
   "cell_type": "markdown",
   "metadata": {},
   "source": [
    "Print the graph"
   ]
  },
  {
   "cell_type": "code",
   "execution_count": 8,
   "metadata": {},
   "outputs": [
    {
     "data": {
      "image/png": "[encoded data removed]",
      "text/plain": [
       "<Figure size 432x288 with 1 Axes>"
      ]
     },
     "metadata": {},
     "output_type": "display_data"
    }
   ],
   "source": [
    "# Use NetworkX's draw() function to draw the graph\n",
    "nx.draw(graph, with_labels=True)\n",
    "\n",
    "# Display the graph\n",
    "plt.show()"
   ]
  },
  {
   "cell_type": "code",
   "execution_count": 80,
   "metadata": {},
   "outputs": [],
   "source": [
    "def get_following_nodes(graph, node):\n",
    "    following_nodes = []\n",
    "    stack = [node]\n",
    "    visited = set()\n",
    "    while stack:\n",
    "        current_node = stack.pop()\n",
    "        if current_node not in visited:\n",
    "            visited.add(current_node)\n",
    "            if current_node != node:\n",
    "                following_nodes.append(current_node)\n",
    "            stack.extend(graph.successors(current_node))\n",
    "    return following_nodes\n",
    "\n",
    "def get_paths(graph, start, path=[]):\n",
    "    path = path + [start]\n",
    "    if start not in graph.nodes:\n",
    "        return []\n",
    "    paths = []\n",
    "    for node in graph.successors(start):\n",
    "        new_paths = get_paths(graph, node, path)\n",
    "        for new_path in new_paths:\n",
    "            paths.append(new_path)\n",
    "    if not paths:\n",
    "        paths.append(path)\n",
    "    return paths\n",
    "\n",
    "def create_output_list(list_output: list, new_vulnerability: json) -> list:\n",
    "    EXISTS = False\n",
    "    for idx, known_vulnerability in enumerate(list_output):\n",
    "        if all(known_vulnerability[key] == new_vulnerability[key] for key in [\"vulnerability\", \"source\", \"sink\"]):\n",
    "            EXISTS = True\n",
    "            if len(new_vulnerability[\"sanitized flows\"]) == 0:\n",
    "                list_output[idx][\"unsanitized flows\"] = \"yes\"\n",
    "            else:\n",
    "                list_output[idx][\"sanitized flows\"].append(new_vulnerability[\"sanitized flows\"])\n",
    "    if not EXISTS:\n",
    "        list_output.append(new_vulnerability)\n",
    "    return list_output\n",
    "    \n",
    "def analyze_patterns(pattern: dict, graph: ASTgraph) -> dict:\n",
    "    list_output = []\n",
    "    for source in pattern[\"sources\"]:\n",
    "        if \"$\" not in source: # FIXME: Maybe remove this from the graph \n",
    "            source += \"()\"\n",
    "        possible_paths = get_paths(graph, source)\n",
    "        for sink in pattern[\"sinks\"]:\n",
    "            if \"$\" not in sink:\n",
    "                sink += \"()\"\n",
    "            for path in possible_paths:\n",
    "                if sink in path:\n",
    "                    if pattern[\"implicit\"] == 'yes' or (pattern[\"implicit\"] == 'no' and path.index(sink) > 0):\n",
    "                        sanitizers = []\n",
    "                        for sanitize_func in pattern[\"sanitizers\"]:\n",
    "                            if sanitize_func + \"()\" in path:\n",
    "                                if path.index(sanitize_func + \"()\") < path.index(sink):\n",
    "                                    sanitizers.append(sanitize_func + \"()\")\n",
    "                        \n",
    "                        list_output = create_output_list(\n",
    "                            list_output = list_output, \n",
    "                            new_vulnerability = {\n",
    "                                \"vulnerability\": pattern[\"vulnerability\"],\n",
    "                                \"source\": source,\n",
    "                                \"sink\": sink,\n",
    "                                \"unsanitized flows\": \"yes\" if len(sanitizers) == 0 else \"no\",\n",
    "                                \"sanitized flows\": sanitizers\n",
    "                            }\n",
    "                        )\n",
    "                        \n",
    "\n",
    "    return list_output"
   ]
  },
  {
   "cell_type": "code",
   "execution_count": 81,
   "metadata": {},
   "outputs": [
    {
     "data": {
      "text/plain": [
       "[{'vulnerability': 'A',\n",
       "  'source': '$a',\n",
       "  'sink': 'e()',\n",
       "  'unsanitized flows': 'yes',\n",
       "  'sanitized flows': []},\n",
       " {'vulnerability': 'B',\n",
       "  'source': 'b()',\n",
       "  'sink': '$a',\n",
       "  'unsanitized flows': 'yes',\n",
       "  'sanitized flows': []},\n",
       " {'vulnerability': 'B',\n",
       "  'source': 'b()',\n",
       "  'sink': 'e()',\n",
       "  'unsanitized flows': 'yes',\n",
       "  'sanitized flows': ['s()']}]"
      ]
     },
     "execution_count": 81,
     "metadata": {},
     "output_type": "execute_result"
    }
   ],
   "source": [
    "output = []\n",
    "for pattern in patterns:\n",
    "    output.extend(analyze_patterns(pattern, graph))\n",
    "output"
   ]
  },
  {
   "cell_type": "code",
   "execution_count": null,
   "metadata": {},
   "outputs": [],
   "source": []
  }
 ],
 "metadata": {
  "kernelspec": {
   "display_name": "Python 3",
   "language": "python",
   "name": "python3"
  },
  "language_info": {
   "codemirror_mode": {
    "name": "ipython",
    "version": 3
   },
   "file_extension": ".py",
   "mimetype": "text/x-python",
   "name": "python",
   "nbconvert_exporter": "python",
   "pygments_lexer": "ipython3",
   "version": "3.8.2"
  },
  "orig_nbformat": 4,
  "vscode": {
   "interpreter": {
    "hash": "ec9e7b54b7dd8fd6d4b91765c4c9214b05378d0f56423037564bb9aa3db0a03b"
   }
  }
 },
 "nbformat": 4,
 "nbformat_minor": 2
}
