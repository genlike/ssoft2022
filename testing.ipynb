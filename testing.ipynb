{
 "cells": [
  {
   "cell_type": "code",
   "execution_count": 335,
   "metadata": {},
   "outputs": [],
   "source": [
    "import json, os\n",
    "import networkx as nx\n",
    "import pandas as pd\n",
    "import matplotlib.pyplot as plt\n",
    "import itertools\n",
    "import re"
   ]
  },
  {
   "attachments": {},
   "cell_type": "markdown",
   "metadata": {},
   "source": [
    "We need to cover the following cases:\n",
    "1. **Problem**: Assignment Expression has several values (e.g., concat)\n",
    "    - **Solution**: Store ExprAssignment().list_expr as `list`\n",
    "2. **Problem**: If-Else Statements result in several graph possibilities\n",
    "    - **Solution**: Generate one graph for holding graphs"
   ]
  },
  {
   "cell_type": "code",
   "execution_count": 336,
   "metadata": {},
   "outputs": [],
   "source": [
    "# '1a-basic-flow'\n",
    "# '1b-basic-flow'\n",
    "# '2-expr-binary-ops'\n",
    "# '3a-expr-func-calls'\n",
    "# '3b-expr-func-calls'\n",
    "# '4a-conds-branching'\n",
    "# '4b-conds-branching'\n",
    "# '5a-loops-unfolding'\n",
    "# '5b-loops-unfolding'\n",
    "# '5c-loops-unfolding'\n",
    "\n",
    "TEST_SlICE = '5c-loops-unfolding'"
   ]
  },
  {
   "cell_type": "code",
   "execution_count": 337,
   "metadata": {},
   "outputs": [],
   "source": [
    "with open(os.path.join('testSlices', TEST_SlICE + '.json')) as json_file:\n",
    "    slices = json.load(json_file)\n",
    "# '5b-loops-unfolding'\n",
    "\n",
    "with open(os.path.join('testPatterns', TEST_SlICE + '.patterns.json')) as json_file:\n",
    "    patterns = json.load(json_file)"
   ]
  },
  {
   "cell_type": "markdown",
   "metadata": {},
   "source": [
    "Initialize Classes"
   ]
  },
  {
   "cell_type": "code",
   "execution_count": 338,
   "metadata": {},
   "outputs": [],
   "source": [
    "class Stmt_Expression():\n",
    "    def __init__(self, expr):\n",
    "        self.expr = expr\n",
    "    \n",
    "    def __repr__(self):\n",
    "        return f\"Stmt_Expression({self.expr})\"\n",
    "\n",
    "class Expr_Assign():\n",
    "    def __init__(self, var, list_expr):\n",
    "        self.var = var\n",
    "        #var.value = [repr(expr) for expr in list_expr]\n",
    "        self.list_expr = list_expr\n",
    "    def __repr__(self):\n",
    "        str_list_expr = \", \".join(str(expr) for expr in self.list_expr)\n",
    "        return f\"{self.var} = {str_list_expr}\"\n",
    "\n",
    "class Expr_FuncCall():\n",
    "    def __init__(self, name, args=[]):\n",
    "        self.name = name\n",
    "        self.args = args\n",
    "    def __str__(self):\n",
    "        str_args = \", \".join(str(arg) for arg in self.args)\n",
    "        return f\"{self.name}({str_args})\"\n",
    "    def __repr__(self):\n",
    "        return f\"{self.name}\" #()\"\n",
    "\n",
    "class Stmt_While():\n",
    "    def __init__(self, condition, whileBlock):\n",
    "        self.condition = condition\n",
    "        self.whileBlock = whileBlock\n",
    "    def __repr__(self) -> str:\n",
    "        str_whileBlock = \";\\n\".join(f'\\t{stmt}' for stmt in self.whileBlock)\n",
    "        str_while = f\"while({self.condition})\\n[{str_whileBlock}]\"\n",
    "        return str_while\n",
    "\n",
    "\n",
    "class Stmt_If_Else():\n",
    "    def __init__(self, condition, ifBlock, elseIfs, elseBlock):\n",
    "        self.condition = condition \n",
    "        self.ifBlock = ifBlock\n",
    "        self.elseIfs = elseIfs\n",
    "        self.elseBlock = elseBlock\n",
    "    def __repr__(self):\n",
    "        str_ifBlock = \";\\n\".join(f'\\t{stmt}' for stmt in self.ifBlock)\n",
    "        str_stmt_if = f\"if({self.condition})[\\n{str_ifBlock}]\"\n",
    "        if len(self.elseIfs) > 0:\n",
    "            str_stmt_if += f\"\\nelseIf[\\n\\t{self.elseIfs}]\"\n",
    "        if len(self.elseBlock) > 0:\n",
    "            str_elseBlock = \";\\n\".join(f'\\t{stmt}' for stmt in self.elseBlock)\n",
    "            str_stmt_if += f\"\\nelse[\\n{str_elseBlock}]\"\n",
    "        return str_stmt_if\n",
    "\n",
    "class Expr_Variable():\n",
    "    def __init__(self, name):\n",
    "        self.name = name\n",
    "        self.value = None\n",
    "    def __repr__(self):\n",
    "        return f\"${self.name}\"\n",
    "    def __eq__(self, other):\n",
    "        # Check if the other object is an Assignment and has the same left and right values\n",
    "        if isinstance(other, Expr_Variable) and self.name == other.name: #and self.value == other.value:\n",
    "            return True\n",
    "        return False\n",
    "    def __hash__(self):\n",
    "        # Return a unique and immutable value based on the left and right values\n",
    "        return hash(self.name)\n",
    "\n",
    "class Constant():\n",
    "    def __init__(self, value):\n",
    "        self.value = value\n",
    "    def __repr__(self):\n",
    "        return f\"Constant(value={self.value})\"\n",
    "\n",
    "class Stmt_Nop():\n",
    "    def __init__(self, value):\n",
    "        self.value = value\n",
    "    def __repr__(self):\n",
    "        return f\"Nop(value={self.value})\"\n",
    "        \n",
    "\n",
    "class Expr_BinaryOp_Concat():\n",
    "    def __init__(self, left, right):\n",
    "        self.left = left\n",
    "        self.right = right\n",
    "    def __repr__(self):\n",
    "        return f\"{self.left}, {self.right}\"\n",
    "\n",
    "class Expr_BinaryOp_Greater():\n",
    "    def __init__(self, left, right):\n",
    "        self.left = left\n",
    "        self.right = right\n",
    "    def __repr__(self):\n",
    "        return f\"{self.left}>{self.right}\"\n",
    "\n",
    "class Expr_BinaryOp_Smaller():\n",
    "    def __init__(self, left, right):\n",
    "        self.left = left\n",
    "        self.right = right\n",
    "    def __repr__(self):\n",
    "        return f\"{self.left}<{self.right}\"\n",
    "\n",
    "class Program():\n",
    "    def __init__(self, steps):\n",
    "        self.steps = steps\n",
    "    def __repr__(self):\n",
    "        str_steps = '\\n'.join(f'\\t{idx}. {step}' for idx, step in enumerate(self.steps))\n",
    "        return f'\\n{str_steps}\\n'"
   ]
  },
  {
   "cell_type": "markdown",
   "metadata": {},
   "source": [
    "Recusive Function to convert the input slices into class objects"
   ]
  },
  {
   "cell_type": "code",
   "execution_count": 339,
   "metadata": {},
   "outputs": [
    {
     "name": "stdout",
     "output_type": "stream",
     "text": [
      "Expr_ConstFetch\n",
      "Expr_BinaryOp_Equal\n",
      "Stmt_Break\n",
      "Expr_PreInc\n"
     ]
    }
   ],
   "source": [
    "#VARIABLE_MEMORY = {}\n",
    "\n",
    "def flatten(lst):\n",
    "    flat_list = []\n",
    "    for item in lst:\n",
    "        if isinstance(item, list):\n",
    "            flat_list.extend(flatten(item))\n",
    "        else:\n",
    "            flat_list.append(item)\n",
    "    return flat_list\n",
    "    \n",
    "def process_json(obj):\n",
    "    if isinstance(obj, dict):\n",
    "        if obj[\"nodeType\"] == 'Stmt_While':\n",
    "            condition = process_json(obj[\"cond\"])\n",
    "            whileBlock = [process_json(stmt) for stmt in obj[\"stmts\"]]\n",
    "            return Stmt_While(condition, whileBlock)\n",
    "        if obj[\"nodeType\"] == 'Stmt_If':\n",
    "            condition = process_json(obj[\"cond\"])\n",
    "            ifBlock = [process_json(stmt) for stmt in obj[\"stmts\"]]\n",
    "            elseIfs = [process_json(elifs) for elifs in obj[\"elseifs\"]]\n",
    "            elseBlock = [] if obj[\"else\"] is None else [process_json(stmt) for stmt in obj[\"else\"][\"stmts\"]]\n",
    "            return Stmt_If_Else(condition, ifBlock, elseIfs, elseBlock)\n",
    "        if obj[\"nodeType\"] == 'Stmt_Expression':\n",
    "            return process_json(obj[\"expr\"])\n",
    "        if obj[\"nodeType\"] == \"Expr_Assign\":\n",
    "            var = process_json(obj[\"var\"])\n",
    "            list_expr = [process_json(obj[\"expr\"])]\n",
    "            #VARIABLE_MEMORY[repr(var)] = [repr(expr) for expr in list_expr]\n",
    "            return Expr_Assign(var, list_expr)\n",
    "        if obj[\"nodeType\"] == \"Expr_FuncCall\":\n",
    "            name = obj[\"name\"][\"parts\"][0]\n",
    "            args = flatten([process_json(arg) for arg in obj[\"args\"]])\n",
    "            #for arg in args:\n",
    "            #    if isinstance(arg, Expr_Variable):\n",
    "            #        arg.value = VARIABLE_MEMORY.get(repr(arg), None)\n",
    "            return Expr_FuncCall(name, args)\n",
    "        if obj[\"nodeType\"] == \"Expr_BinaryOp_Concat\" or obj[\"nodeType\"] == \"Expr_BinaryOp_Plus\":\n",
    "            left = process_json(obj[\"left\"])\n",
    "            right = process_json(obj[\"right\"])\n",
    "            return flatten([left, right])\n",
    "        if obj[\"nodeType\"] == \"Expr_BinaryOp_Greater\":\n",
    "            left = process_json(obj[\"left\"])\n",
    "            right = process_json(obj[\"right\"])\n",
    "            return Expr_BinaryOp_Greater(left, right)\n",
    "        if obj[\"nodeType\"] == \"Expr_BinaryOp_Smaller\":\n",
    "            left = process_json(obj[\"left\"])\n",
    "            right = process_json(obj[\"right\"])\n",
    "            return Expr_BinaryOp_Smaller(left, right)\n",
    "        if obj[\"nodeType\"] == \"Arg\":\n",
    "            return process_json(obj[\"value\"])\n",
    "        #if obj[\"nodeType\"] == \"Expr_PreInc\":\n",
    "            #return None #process_json(obj[\"var\"])\n",
    "        if obj[\"nodeType\"] == \"Expr_Variable\":\n",
    "            return Expr_Variable(obj[\"name\"])\n",
    "        if obj[\"nodeType\"] == \"Scalar_String\":\n",
    "            return Constant(obj[\"value\"])\n",
    "        if obj[\"nodeType\"] == \"Scalar_LNumber\":\n",
    "            return Constant(obj[\"value\"])\n",
    "        if obj[\"nodeType\"] == \"Stmt_Nop\":\n",
    "            return Stmt_Nop(\"Nop\")\n",
    "        print(obj[\"nodeType\"])\n",
    "        return None\n",
    "    elif isinstance(obj, list):\n",
    "        steps = [process_json(step) for step in obj]\n",
    "        return Program(steps)\n",
    "    else:\n",
    "        # this is for error catching :)\n",
    "        print(obj)\n",
    "        return None\n",
    "\n",
    "# Process the JSON object\n",
    "parsed_ast = process_json(slices)"
   ]
  },
  {
   "cell_type": "markdown",
   "metadata": {},
   "source": [
    "Print the program in a readable format"
   ]
  },
  {
   "cell_type": "code",
   "execution_count": 340,
   "metadata": {},
   "outputs": [
    {
     "data": {
      "text/plain": [
       "\n",
       "\t0. $a = b(Constant(value=user))\n",
       "\t1. while(None)\n",
       "[\tif(None)[\n",
       "\t$c = s($a, Constant(value=1));\n",
       "\tNone];\n",
       "\tNone]\n",
       "\t2. $q = z($c)\n",
       "\t3. Nop(value=Nop)"
      ]
     },
     "execution_count": 340,
     "metadata": {},
     "output_type": "execute_result"
    }
   ],
   "source": [
    "parsed_ast"
   ]
  },
  {
   "cell_type": "code",
   "execution_count": 341,
   "metadata": {},
   "outputs": [],
   "source": [
    "class CustomGraph:\n",
    "    def __init__(self, name):\n",
    "        self.nodes = set([])\n",
    "        self.edges = []\n",
    "        self.name = name\n",
    "\n",
    "    def add_node(self,node):\n",
    "        self.nodes.add(node)\n",
    "        \n",
    "    def remove_node(self,node):\n",
    "        self.nodes.remove(node)\n",
    "\n",
    "    def add_edge(self,firstNode, secondNode):\n",
    "        self.nodes.add(firstNode)\n",
    "        self.nodes.add(secondNode)\n",
    "        self.edges.append((firstNode,secondNode))\n",
    "\n",
    "    def remove_edge(self, firstNode, secondNode):\n",
    "        self.edges.remove((firstNode, secondNode))\n",
    "\n",
    "    def has_node(self, node, evalMode=False):\n",
    "        if evalMode:\n",
    "            return str(node) in [repr(n) for n in self.nodes]\n",
    "        else:\n",
    "            return node in self.nodes\n",
    "\n",
    "    def get_node_from_repr(self, node):\n",
    "        if self.has_node(node, evalMode=True):\n",
    "            for n in self.nodes:\n",
    "                if str(node) == repr(n):\n",
    "                    return n\n",
    "        else:\n",
    "            return None\n",
    "\n",
    "    def in_edges(self, node):\n",
    "        edgesFound = []\n",
    "        for edge in self.edges:\n",
    "            if node in edge:\n",
    "                edgesFound.append(edge)\n",
    "        return edgesFound\n",
    "\n",
    "    def successors(self, node, evalMode=False):\n",
    "        successors = []\n",
    "        for pair in self.edges:\n",
    "            if evalMode:\n",
    "                if repr(pair[0]) == str(node):\n",
    "                    successors.append(repr(pair[1]))\n",
    "            else:\n",
    "                if pair[0] == node:\n",
    "                    successors.append(pair[1])\n",
    "        return successors\n",
    "\n",
    "    def predecessors(self, node, evalMode=False):\n",
    "        successors = []\n",
    "        for pair in self.edges:\n",
    "            if evalMode:\n",
    "                if repr(pair[1]) == str(node):\n",
    "                    successors.append(repr(pair[0]))\n",
    "            else:\n",
    "                if pair[1] == node:\n",
    "                    successors.append(pair[0])\n",
    "        return successors\n",
    "    \n",
    "    def add_edges_from(self, edges):\n",
    "        for edge in edges:\n",
    "            if edge not in self.edges:\n",
    "                self.nodes.add(edge[0])\n",
    "                self.nodes.add(edge[1])\n",
    "                self.edges.append(edge)\n",
    "\n",
    "    def __repr__(self):\n",
    "        return f\"{self.name}\""
   ]
  },
  {
   "cell_type": "markdown",
   "metadata": {},
   "source": [
    "Recusively create a graph based on the program"
   ]
  },
  {
   "cell_type": "code",
   "execution_count": 342,
   "metadata": {},
   "outputs": [
    {
     "name": "stdout",
     "output_type": "stream",
     "text": [
      "\n"
     ]
    }
   ],
   "source": [
    "codeBlockCounter = 1\n",
    "\n",
    "# Function to recursively find all assignments in the AST\n",
    "def create_graph(node, programGraph, graph):\n",
    "    global codeBlockCounter\n",
    "\n",
    "    if isinstance(node, Expr_Assign):\n",
    "\n",
    "        #if graph.has_node(str(node.var)):\n",
    "        #    # If the variable isn't referenced anywhere, it is overwritten\n",
    "        #    if len(list(graph.successorsnew_endifGraph(str(node.var)))) == 0:\n",
    "        #        for u, v in list(graph.in_edges(str(node.var))):\n",
    "        #            graph.remove_edge(u, v)\n",
    "        #            graph.remove_node(u)\n",
    "\n",
    "        for expr in node.list_expr:\n",
    "            if isinstance(expr, Expr_FuncCall):\n",
    "                graph.add_edge(expr, node.var)\n",
    "                create_graph(expr, programGraph, graph)\n",
    "            if isinstance(expr, Constant):\n",
    "                graph.add_edge(expr, node.var)\n",
    "            if isinstance(expr, Expr_Variable):\n",
    "                graph.add_edge(expr, node.var)\n",
    "\n",
    "    if isinstance(node, Expr_FuncCall):\n",
    "        for arg in node.args:\n",
    "            graph.add_edge(arg, node)\n",
    "            create_graph(arg, programGraph, graph)\n",
    "\n",
    "    if isinstance(node, Stmt_If_Else):\n",
    "        #validate if there is assignment in the if condiction (it is possible!)\n",
    "        create_graph(node.condition, programGraph, graph)\n",
    "        \n",
    "        #we generate a code block for if the statement is true\n",
    "        codeBlockCounter += 1\n",
    "        new_ifGraph = CustomGraph(f\"ifcodeBlock#{codeBlockCounter}\")\n",
    "        programGraph.add_edge(graph, new_ifGraph)\n",
    "        connectifGraph = create_graph(node.ifBlock, programGraph, new_ifGraph)\n",
    "        \n",
    "        #FIXME This may need to change, need to test with else ifs\n",
    "        if len(node.elseIfs) > 0:\n",
    "            codeBlockCounter += 1\n",
    "            new_ifGraph2 = CustomGraph(f\"elifscodeBlock#{codeBlockCounter}\")\n",
    "            create_graph(node.elseIfs, programGraph, new_ifGraph2)\n",
    "            programGraph.add_edge(graph, new_ifGraph2)\n",
    "        \n",
    "        #This is the else codeblock\n",
    "        codeBlockCounter += 1\n",
    "        new_elseGraph = CustomGraph(f\"elsecodeBlock#{codeBlockCounter}\")\n",
    "        connectelseGraph = create_graph(node.elseBlock, programGraph,new_elseGraph)\n",
    "        programGraph.add_edge(graph, new_elseGraph)\n",
    "        \n",
    "\n",
    "        #This is a new codeblock after the if and else statement\n",
    "        #where I connect the if and else block to this new block\n",
    "        #With the 4a example its the 5 and 7 blocks\n",
    "        codeBlockCounter += 1\n",
    "        new_endifGraph = CustomGraph(f\"codeBlock#{codeBlockCounter}\")\n",
    "        programGraph.add_edge(connectelseGraph, new_endifGraph)\n",
    "        programGraph.add_edge(connectifGraph, new_endifGraph)\n",
    "        graph = new_endifGraph\n",
    "\n",
    "\n",
    "\n",
    "    if isinstance(node, Stmt_While):\n",
    "        create_graph(node.condition, programGraph, graph)\n",
    "        \n",
    "        #Running once\n",
    "        codeBlockCounter += 1\n",
    "        new_whileBlock = CustomGraph(f\"whileBlock#{codeBlockCounter}\")\n",
    "        connectWhileGraph = create_graph(node.whileBlock, programGraph, new_whileBlock)\n",
    "        programGraph.add_edge(graph, new_whileBlock)\n",
    "\n",
    "        # #Running twice\n",
    "        # codeBlockCounter += 1\n",
    "        # new_duppedwhileBlock1 = CustomGraph(f\"duppedWhileBlock#{codeBlockCounter}\")\n",
    "        # connectWhileGraph1 = create_graph(node.whileBlock, programGraph, new_duppedwhileBlock1)\n",
    "        # programGraph.add_edge(graph, new_duppedwhileBlock1)\n",
    "        # codeBlockCounter += 1\n",
    "        # new_duppedwhileBlock2 = CustomGraph(f\"duppedWhileBlock#{codeBlockCounter}\")\n",
    "        # programGraph.add_edge(connectWhileGraph1, new_duppedwhileBlock2)\n",
    "        # connectWhileGraph2 = create_graph(node.whileBlock, programGraph, new_duppedwhileBlock2)\n",
    "\n",
    "\n",
    "        codeBlockCounter += 1\n",
    "        new_endGraph = CustomGraph(f\"codeBlock#{codeBlockCounter}\")\n",
    "        #Running none\n",
    "        programGraph.add_edge(graph, new_endGraph)\n",
    "        #Running once\n",
    "        programGraph.add_edge(connectWhileGraph, new_endGraph)\n",
    "        #Running twice\n",
    "        # programGraph.add_edge(connectWhileGraph2, new_endGraph)\n",
    "        \n",
    "        graph = new_endGraph\n",
    "\n",
    "    if hasattr(node, 'steps'):\n",
    "        for step in node.steps:\n",
    "            graph = create_graph(step, programGraph, graph)\n",
    "\n",
    "    elif isinstance(node, list):\n",
    "        for stmt in node:\n",
    "            graph = create_graph(stmt, programGraph, graph)\n",
    "\n",
    "    return graph\n",
    "\n",
    "# Create a graph for the code blocks\n",
    "graph = CustomGraph(f\"codeBlock#{codeBlockCounter}\")\n",
    "\n",
    "# Create a graph for the whole program\n",
    "programGraph = CustomGraph(\"ProgramGraph\")\n",
    "programGraph.add_node(graph)\n",
    "\n",
    "# Recusrively create the Program Graph consisting of graphs\n",
    "create_graph(parsed_ast, programGraph, graph)\n",
    "print()"
   ]
  },
  {
   "attachments": {},
   "cell_type": "markdown",
   "metadata": {},
   "source": [
    "Print the  program graph  and each single blocks graph"
   ]
  },
  {
   "cell_type": "code",
   "execution_count": 343,
   "metadata": {},
   "outputs": [
    {
     "name": "stdout",
     "output_type": "stream",
     "text": [
      "[whileBlock#2, elsecodeBlock#4, codeBlock#5, codeBlock#1, ifcodeBlock#3, codeBlock#6]\n"
     ]
    },
    {
     "data": {
      "image/png": "[encoded data removed]",
      "text/plain": [
       "<Figure size 432x288 with 1 Axes>"
      ]
     },
     "metadata": {},
     "output_type": "display_data"
    },
    {
     "name": "stdout",
     "output_type": "stream",
     "text": [
      "whileBlock#2\n"
     ]
    },
    {
     "data": {
      "image/png": "[encoded data removed]",
      "text/plain": [
       "<Figure size 432x288 with 1 Axes>"
      ]
     },
     "metadata": {},
     "output_type": "display_data"
    },
    {
     "name": "stdout",
     "output_type": "stream",
     "text": [
      "elsecodeBlock#4\n"
     ]
    },
    {
     "data": {
      "image/png": "[encoded data removed]",
      "text/plain": [
       "<Figure size 432x288 with 1 Axes>"
      ]
     },
     "metadata": {},
     "output_type": "display_data"
    },
    {
     "name": "stdout",
     "output_type": "stream",
     "text": [
      "codeBlock#5\n"
     ]
    },
    {
     "data": {
      "image/png": "[encoded data removed]",
      "text/plain": [
       "<Figure size 432x288 with 1 Axes>"
      ]
     },
     "metadata": {},
     "output_type": "display_data"
    },
    {
     "name": "stdout",
     "output_type": "stream",
     "text": [
      "codeBlock#1\n"
     ]
    },
    {
     "data": {
      "image/png": "[encoded data removed]",
      "text/plain": [
       "<Figure size 432x288 with 1 Axes>"
      ]
     },
     "metadata": {},
     "output_type": "display_data"
    },
    {
     "name": "stdout",
     "output_type": "stream",
     "text": [
      "ifcodeBlock#3\n"
     ]
    },
    {
     "data": {
      "image/png": "[encoded data removed]",
      "text/plain": [
       "<Figure size 432x288 with 1 Axes>"
      ]
     },
     "metadata": {},
     "output_type": "display_data"
    },
    {
     "name": "stdout",
     "output_type": "stream",
     "text": [
      "codeBlock#6\n"
     ]
    },
    {
     "data": {
      "image/png": "[encoded data removed]",
      "text/plain": [
       "<Figure size 432x288 with 1 Axes>"
      ]
     },
     "metadata": {},
     "output_type": "display_data"
    }
   ],
   "source": [
    "# Use NetworkX's draw() function to draw the graph\n",
    "debugGraph = nx.DiGraph()\n",
    "debugGraph.add_edges_from(programGraph.edges)\n",
    "\n",
    "print(list(programGraph.nodes))\n",
    "nx.draw(debugGraph, with_labels=True)\n",
    "plt.show()\n",
    "\n",
    "# Loop through each codeBlocks graph and draw it\n",
    "for nodeGraph in list(programGraph.nodes):\n",
    "    print(nodeGraph)\n",
    "    debugGraph = nx.DiGraph()\n",
    "    debugGraph.add_edges_from(nodeGraph.edges)\n",
    "    nx.draw(debugGraph, with_labels=True)\n",
    "    plt.show()"
   ]
  },
  {
   "cell_type": "code",
   "execution_count": 344,
   "metadata": {},
   "outputs": [
    {
     "data": {
      "image/png": "[encoded data removed]",
      "text/plain": [
       "<Figure size 432x288 with 1 Axes>"
      ]
     },
     "metadata": {},
     "output_type": "display_data"
    },
    {
     "data": {
      "image/png": "[encoded data removed]",
      "text/plain": [
       "<Figure size 432x288 with 1 Axes>"
      ]
     },
     "metadata": {},
     "output_type": "display_data"
    },
    {
     "data": {
      "image/png": "[encoded data removed]",
      "text/plain": [
       "<Figure size 432x288 with 1 Axes>"
      ]
     },
     "metadata": {},
     "output_type": "display_data"
    }
   ],
   "source": [
    "def get_all_program_paths(graph):\n",
    "    # Helper function to find start and end node based on index\n",
    "    def find_min_max(lst):\n",
    "        def extract_value(s):\n",
    "            return int(re.search(r'\\d+', s.name).group())\n",
    "        return (min(lst, key=extract_value), max(lst, key=extract_value))\n",
    "\n",
    "    # Recursive function to find all program paths\n",
    "    def get_paths(graph, start, end, path=[]):\n",
    "        path = path + [start]\n",
    "        if start == end:\n",
    "            return [path]\n",
    "        if not graph.has_node(start):\n",
    "            return []\n",
    "        paths = []\n",
    "        for node in graph.successors(start):\n",
    "            if node not in path:\n",
    "                new_paths = get_paths(graph, node, end, path)\n",
    "                for new_path in new_paths:\n",
    "                    paths.append(new_path)\n",
    "        return paths\n",
    "\n",
    "    (start, end) = find_min_max(list(graph.nodes))\n",
    "\n",
    "    return get_paths(graph, start, end)\n",
    "\n",
    "def getPossibleGraphs(lst:list) -> list:\n",
    "    if isinstance(lst[0], CustomGraph):\n",
    "        return_graph = CustomGraph(name=\"Final\")\n",
    "        for graph in lst:  \n",
    "            return_graph.add_edges_from(graph.edges)\n",
    "        return return_graph\n",
    "    if isinstance(lst[0], list):\n",
    "        return [getPossibleGraphs(combination) for combination in lst] \n",
    "    \n",
    "# Get all program paths\n",
    "listOfCombinations = get_all_program_paths(programGraph)\n",
    "\n",
    "# Combine the program steps within these possible paths\n",
    "listOfGraphs = getPossibleGraphs(listOfCombinations)\n",
    "\n",
    "for combination in listOfCombinations:\n",
    "    debugGraph = nx.DiGraph()\n",
    "    for graph in combination:\n",
    "        debugGraph.add_edges_from(list(graph.edges))\n",
    "    nx.draw(debugGraph, with_labels=True)\n",
    "    plt.show()\n"
   ]
  },
  {
   "cell_type": "code",
   "execution_count": 345,
   "metadata": {},
   "outputs": [],
   "source": [
    "def get_paths_down(graph: CustomGraph, start, path=(),visitedEdges=()):\n",
    "    \"\"\"\n",
    "    This function traverses the graph DOWNWARDS (successors)\n",
    "    :param graph: CustomGraph object\n",
    "    :param start: Start node in string format\n",
    "    :path: Should be left empty, only used for recusive functionality\n",
    "    :visitedEdges: Should be left empty, only used for recusive functionality\n",
    "    :returns: all paths from the start node DOWN the graph to all node which match the condition\n",
    "    \"\"\"\n",
    "    path += (start,)\n",
    "    if not graph.has_node(start):\n",
    "        return ()\n",
    "    paths = ()\n",
    "    for node in graph.successors(start):\n",
    "        if (start,node) not in visitedEdges:\n",
    "            visitedEdges += ((start,node),)\n",
    "            new_paths = get_paths_down(graph, node, path, visitedEdges)\n",
    "            for new_path in new_paths:\n",
    "                paths+= (new_path,)\n",
    "    if not paths:\n",
    "        paths += (path,)\n",
    "    return paths\n",
    "\n",
    "def get_paths_up(graph, start, condition):\n",
    "    \"\"\"\n",
    "    This function traverses the graph UPWARDS (predecessors)\n",
    "    :param graph: CustomGraph object\n",
    "    :param start: Start node in string format\n",
    "    :conition: Optional condition for nodes such that the upward traversal stops   \n",
    "        (If no condition is provdied, it returns all path to the source of the graph)\n",
    "    :returns: all paths from the start node UP the graph to all node which match the condition\n",
    "    \"\"\"\n",
    "    visited = set()\n",
    "    stack = [(start, [start])]\n",
    "    paths = []\n",
    "\n",
    "    while stack:\n",
    "        vertex, path = stack.pop()\n",
    "        if vertex not in visited:\n",
    "            #if vertex[0] == \"$\" and len(graph.predecessors(vertex, True)) == 0:\n",
    "            if condition(vertex):\n",
    "                paths.append(path)\n",
    "            visited.add(vertex)\n",
    "            for neighbor in graph.predecessors(vertex, True):\n",
    "                stack.append((neighbor, path + [neighbor]))\n",
    "    return paths\n",
    "        \n",
    "def create_output_list(list_output: list, new_vulnerability: json) -> list:\n",
    "    EXISTS = False\n",
    "    for idx, known_vulnerability in enumerate(list_output):\n",
    "        if all(known_vulnerability[key] == new_vulnerability[key] for key in [\"vulnerability\", \"source\", \"sink\"]):\n",
    "            EXISTS = True\n",
    "            if len(new_vulnerability[\"sanitized flows\"]) == 0:\n",
    "                list_output[idx][\"unsanitized flows\"] = \"yes\"\n",
    "            else:\n",
    "                # Check whether we habe already registered this sanitization function within this vulnerability\n",
    "                if not any(vuln == new_vulnerability[\"sanitized flows\"][0] for vuln in known_vulnerability[\"sanitized flows\"]):\n",
    "                    list_output[idx][\"sanitized flows\"].append(new_vulnerability[\"sanitized flows\"][0])\n",
    "    if not EXISTS:\n",
    "        # Append new vulnerability to output\n",
    "        list_output.append(new_vulnerability)\n",
    "    return list_output\n",
    "\n",
    "def get_sanitizers(path_from_source: list, sink, sanitize_functions):\n",
    "    sanitizers = []\n",
    "    for sanitize_func in sanitize_functions:\n",
    "        if sanitize_func in path_from_source:\n",
    "            if path_from_source.index(sanitize_func) < path_from_source.index(sink):\n",
    "                sanitizers.append(sanitize_func)\n",
    "    return sanitizers\n",
    "\n",
    "def analyze_patterns(list_output: list, pattern: dict, graph: CustomGraph):\n",
    "    # Analyze whether any source has a graph connection to any sink within the pattern\n",
    "    for source in pattern[\"sources\"]:\n",
    "        # Get all possible paths downwards (sucessors) the graph from the source\n",
    "        possible_paths = get_paths_down(graph, graph.get_node_from_repr(source),(),()) # TODO: What happens if source occurs multiple times\n",
    "        for sink in pattern[\"sinks\"]:\n",
    "            if sink == source:\n",
    "                continue\n",
    "            for path in possible_paths:\n",
    "                # Each node is a class instance; in order to make it comparable to the strings within patterns we\n",
    "                # need to convert the class to their __repr__\n",
    "                path = [repr(i) for i in path] \n",
    "                if sink in path:\n",
    "                    if pattern[\"implicit\"] == 'yes' or (pattern[\"implicit\"] == 'no' and path.index(sink) > 0):\n",
    "                        sanitizers = get_sanitizers(path, sink, pattern[\"sanitizers\"])\n",
    "                        \n",
    "                        list_output = create_output_list(\n",
    "                            list_output = list_output, \n",
    "                            new_vulnerability = {\n",
    "                                \"vulnerability\": pattern[\"vulnerability\"],\n",
    "                                \"source\": source,\n",
    "                                \"sink\": sink,\n",
    "                                \"unsanitized flows\": \"yes\" if len(sanitizers) == 0 else \"no\",\n",
    "                                \"sanitized flows\": [sanitizers] if len(sanitizers) > 0 else sanitizers\n",
    "                            }\n",
    "                        )\n",
    "                        \n",
    "    # For unitialized variables connected to sinks\n",
    "    for sink in pattern[\"sinks\"]:\n",
    "        # Define the condition: Vertex needs to be a unassigned variable (no prodecessors) \n",
    "        condition = lambda vertex: vertex[0] == \"$\" and len(graph.predecessors(vertex, True)) == 0\n",
    "        # Get all paths upowards (predecessors) from the sink to unassigned variables (match the condition)\n",
    "        path_from_sink = get_paths_up(graph, sink, condition)\n",
    "        # If such path exists (i.e., if unassigned variables link to sinks)\n",
    "        if len(path_from_sink) > 0:\n",
    "            for path in path_from_sink:\n",
    "                # Reverse the path in order for get_sanitizers() to work\n",
    "                path.reverse() \n",
    "                # get potential santization functions\n",
    "                sanitizers = get_sanitizers(path, sink, pattern[\"sanitizers\"])\n",
    "                list_output = create_output_list(\n",
    "                    list_output = list_output, \n",
    "                    new_vulnerability = {\n",
    "                        \"vulnerability\": pattern[\"vulnerability\"],\n",
    "                        \"source\": path[0],\n",
    "                        \"sink\": sink,\n",
    "                        \"unsanitized flows\": \"yes\" if len(sanitizers) == 0 else \"no\",\n",
    "                        \"sanitized flows\": [sanitizers] if len(sanitizers) > 0 else sanitizers\n",
    "                    }\n",
    "                )"
   ]
  },
  {
   "cell_type": "code",
   "execution_count": 346,
   "metadata": {},
   "outputs": [
    {
     "data": {
      "text/plain": [
       "[{'vulnerability': 'A',\n",
       "  'source': 'b',\n",
       "  'sink': 'z',\n",
       "  'unsanitized flows': 'no',\n",
       "  'sanitized flows': [['s']]},\n",
       " {'vulnerability': 'B',\n",
       "  'source': 's',\n",
       "  'sink': '$q',\n",
       "  'unsanitized flows': 'no',\n",
       "  'sanitized flows': [['z']]},\n",
       " {'vulnerability': 'A',\n",
       "  'source': '$c',\n",
       "  'sink': 'z',\n",
       "  'unsanitized flows': 'yes',\n",
       "  'sanitized flows': []},\n",
       " {'vulnerability': 'B',\n",
       "  'source': '$c',\n",
       "  'sink': '$q',\n",
       "  'unsanitized flows': 'no',\n",
       "  'sanitized flows': [['z']]}]"
      ]
     },
     "execution_count": 346,
     "metadata": {},
     "output_type": "execute_result"
    }
   ],
   "source": [
    "output = []\n",
    "for graph in listOfGraphs:\n",
    "    for pattern in patterns:\n",
    "        analyze_patterns(output, pattern, graph)\n",
    "output"
   ]
  },
  {
   "cell_type": "code",
   "execution_count": null,
   "metadata": {},
   "outputs": [],
   "source": []
  }
 ],
 "metadata": {
  "kernelspec": {
   "display_name": "assignments",
   "language": "python",
   "name": "python3"
  },
  "language_info": {
   "codemirror_mode": {
    "name": "ipython",
    "version": 3
   },
   "file_extension": ".py",
   "mimetype": "text/x-python",
   "name": "python",
   "nbconvert_exporter": "python",
   "pygments_lexer": "ipython3",
   "version": "3.10.4"
  },
  "vscode": {
   "interpreter": {
    "hash": "a21fa5c6778964b8c455e08b07d8119ce3d7b5a09f1f59bdb05e37c6649146e2"
   }
  }
 },
 "nbformat": 4,
 "nbformat_minor": 4
}
