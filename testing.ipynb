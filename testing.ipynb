{
 "cells": [
  {
   "cell_type": "code",
   "execution_count": 190,
   "metadata": {},
   "outputs": [],
   "source": [
    "import json\n",
    "import networkx as nx\n",
    "import pandas as pd\n",
    "import matplotlib.pyplot as plt"
   ]
  },
  {
   "cell_type": "code",
   "execution_count": 191,
   "metadata": {},
   "outputs": [],
   "source": [
    "with open('testSlice.json') as json_file:\n",
    "    slices = json.load(json_file)"
   ]
  },
  {
   "cell_type": "code",
   "execution_count": 192,
   "metadata": {},
   "outputs": [],
   "source": [
    "class Stmt_Expression():\n",
    "    def __init__(self, expr):\n",
    "        self.expr = expr\n",
    "    \n",
    "    def __repr__(self):\n",
    "        return f\"Stmt_Expression({self.expr})\"\n",
    "\n",
    "class Expr_Assign():\n",
    "    def __init__(self, var, expr):\n",
    "        self.var = var\n",
    "        self.expr = expr\n",
    "    def __repr__(self):\n",
    "        return f\"Assignment({self.var}={self.expr})\"\n",
    "\n",
    "class Expr_FuncCall():\n",
    "    def __init__(self, name, args):\n",
    "        self.name = name\n",
    "        self.args = args\n",
    "    def __repr__(self):\n",
    "        return f\"FuncCall(name={self.name},args={self.args})\"\n",
    "\n",
    "class Expr_Variable():\n",
    "    def __init__(self, name):\n",
    "        self.name = name\n",
    "    def __repr__(self):\n",
    "        return f\"Variable({self.name})\"\n",
    "    def __eq__(self, other):\n",
    "        # Check if the other object is an Assignment and has the same left and right values\n",
    "        if isinstance(other, Expr_Variable) and self.name == other.name:\n",
    "            return True\n",
    "        return False\n",
    "    def __hash__(self):\n",
    "        # Return a unique and immutable value based on the left and right values\n",
    "        return hash(self.name)\n",
    "\n",
    "class Constant():\n",
    "    def __init__(self, value):\n",
    "        self.value = value\n",
    "    def __repr__(self):\n",
    "        return f\"Constant(value={self.value})\"\n",
    "\n",
    "class Program():\n",
    "    def __init__(self, steps):\n",
    "        self.steps = steps\n",
    "\n",
    "    def __repr__(self):\n",
    "        steps_str = '\\n'.join(f'\\t{idx}. {step}' for idx, step in enumerate(self.steps))\n",
    "        return f'Program(\\n{steps_str}\\n)'"
   ]
  },
  {
   "cell_type": "code",
   "execution_count": 195,
   "metadata": {},
   "outputs": [],
   "source": [
    "def process_json(obj):\n",
    "    if isinstance(obj, dict):\n",
    "        if obj[\"nodeType\"] == 'Stmt_Expression':\n",
    "            #expr = process_json(obj[\"expr\"])\n",
    "            #return Stmt_Expression(expr)\n",
    "            return process_json(obj[\"expr\"])\n",
    "        if obj[\"nodeType\"] == \"Expr_Assign\":\n",
    "            var = process_json(obj[\"var\"])\n",
    "            expr = process_json(obj[\"expr\"])\n",
    "            return Expr_Assign(var, expr)\n",
    "        if obj[\"nodeType\"] == \"Expr_FuncCall\":\n",
    "            name = obj[\"name\"][\"parts\"][0]\n",
    "            args = [process_json(arg) for arg in obj[\"args\"]]\n",
    "            return Expr_FuncCall(name, args)\n",
    "        if obj[\"nodeType\"] == \"Arg\":\n",
    "            return process_json(obj[\"value\"])\n",
    "        if obj[\"nodeType\"] == \"Expr_Variable\":\n",
    "            return Expr_Variable(obj[\"name\"])\n",
    "        if obj[\"nodeType\"] == \"Scalar_String\":\n",
    "            return Constant(obj[\"value\"])\n",
    "    elif isinstance(obj, list):\n",
    "        #for item in obj:\n",
    "        steps = [process_json(step) for step in obj][:-1]\n",
    "        return Program(steps)\n",
    "    else:\n",
    "        # obj is a scalar value (int, float, string, etc.)\n",
    "        print(obj)\n",
    "\n",
    "# Process the JSON object\n",
    "parsed_ast = process_json(slices)"
   ]
  },
  {
   "cell_type": "code",
   "execution_count": 196,
   "metadata": {},
   "outputs": [
    {
     "name": "stdout",
     "output_type": "stream",
     "text": [
      "Program(\n",
      "\t0. Assignment(Variable(a)=Constant(value=))\n",
      "\t1. Assignment(Variable(a)=FuncCall(name=b,args=[]))\n",
      "\t2. Assignment(Variable(c)=Variable(a))\n",
      "\t3. Assignment(Variable(d)=Variable(c))\n",
      "\t4. FuncCall(name=e,args=[Variable(d)])\n",
      "\t5. Assignment(Variable(c)=Constant(value=))\n",
      ")\n"
     ]
    }
   ],
   "source": [
    "print(parsed_ast)"
   ]
  },
  {
   "cell_type": "code",
   "execution_count": 197,
   "metadata": {},
   "outputs": [],
   "source": [
    "# Function to recursively find all assignments in the AST\n",
    "def find_assignments(node, graph):\n",
    "    if isinstance(node, Expr_Assign):\n",
    "        if graph.has_node(node.var):\n",
    "            # If the value of a varaible is overwritten before it is referenced anywhere\n",
    "            if len(list(graph.successors(node.var))) == 0:\n",
    "                for u, v in list(graph.in_edges(node.var)):\n",
    "                    graph.remove_edge(u, v)\n",
    "                    graph.remove_node(u)\n",
    "\n",
    "        # Add an edge to the graph for the assignment\n",
    "        graph.add_edge(node.expr, node.var)\n",
    "    if isinstance(node, Expr_FuncCall):\n",
    "        # Add an edge to the graph for the assignment\n",
    "        #print(node.expr)\n",
    "        for arg in node.args:\n",
    "            graph.add_edge(arg, node)\n",
    "    # Recurse on children\n",
    "    if hasattr(node, 'steps'):\n",
    "        for step in node.steps:\n",
    "            find_assignments(step, graph)\n",
    "\n",
    "# Create an empty graph\n",
    "graph = nx.DiGraph()\n",
    "\n",
    "# Find all assignments in the AST and add them to the graph\n",
    "find_assignments(parsed_ast, graph)"
   ]
  },
  {
   "cell_type": "code",
   "execution_count": 198,
   "metadata": {},
   "outputs": [
    {
     "data": {
      "image/png": "[encoded data removed]",
      "text/plain": [
       "<Figure size 432x288 with 1 Axes>"
      ]
     },
     "metadata": {},
     "output_type": "display_data"
    }
   ],
   "source": [
    "# Use NetworkX's draw() function to draw the graph\n",
    "nx.draw(graph, with_labels=True)\n",
    "\n",
    "# Display the graph\n",
    "plt.show()"
   ]
  }
 ],
 "metadata": {
  "kernelspec": {
   "display_name": "assignments",
   "language": "python",
   "name": "python3"
  },
  "language_info": {
   "codemirror_mode": {
    "name": "ipython",
    "version": 3
   },
   "file_extension": ".py",
   "mimetype": "text/x-python",
   "name": "python",
   "nbconvert_exporter": "python",
   "pygments_lexer": "ipython3",
   "version": "3.10.4"
  },
  "orig_nbformat": 4,
  "vscode": {
   "interpreter": {
    "hash": "a21fa5c6778964b8c455e08b07d8119ce3d7b5a09f1f59bdb05e37c6649146e2"
   }
  }
 },
 "nbformat": 4,
 "nbformat_minor": 2
}
